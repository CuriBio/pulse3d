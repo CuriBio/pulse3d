{
 "cells": [
  {
   "cell_type": "code",
   "execution_count": 84,
   "metadata": {},
   "outputs": [],
   "source": [
    "import numpy as np\n",
    "def to_hours(time: str):\n",
    "    hours, minutes = map(int, time.split(\":\"))\n",
    "    hours = np.max([hours,0])\n",
    "    \n",
    "    hours = np.abs(hours) + (np.abs(minutes)//60)\n",
    "    minutes = np.abs(minutes)%60\n",
    "    \n",
    "    # print(f'{hours} hours and {minutes} minutes')\n",
    "    \n",
    "    return (hours*60+minutes)/60\n",
    "\n",
    "def pay(rate, hours, gross=False):\n",
    "    \n",
    "    compensation=rate*hours\n",
    "    \n",
    "    print(f'Hourly rate: ${rate}/hr')\n",
    "    print(f'Total hours: {hours}')\n",
    "    \n",
    "    print(f'Gross pay: ${compensation:.2f}') if gross else print(f'Net pay: ${compensation:.2f}')\n",
    "    \n",
    "    return compensation\n",
    "\n",
    "def total_tax_rate(gross, net):\n",
    "    \n",
    "    return 1-(net/gross)"
   ]
  },
  {
   "cell_type": "code",
   "execution_count": 85,
   "metadata": {},
   "outputs": [
    {
     "name": "stdout",
     "output_type": "stream",
     "text": [
      "Hourly rate: $35/hr\n",
      "Total hours: 63.15\n",
      "Gross pay: $2210.25\n",
      "\n",
      "Hourly rate: $23/hr\n",
      "Total hours: 63.15\n",
      "Net pay: $1452.45\n",
      "\n",
      "Tax rate: 34.29\n"
     ]
    }
   ],
   "source": [
    "gross = pay(35,to_hours(time=\"34:17\")+to_hours(\"28:52\"), gross=True)\n",
    "print()\n",
    "net = pay(23,to_hours(time=\"34:17\")+to_hours(\"28:52\"), gross=False)\n",
    "\n",
    "print()\n",
    "print(f'Tax rate: {100*total_tax_rate(gross, net):.2f}')"
   ]
  },
  {
   "cell_type": "code",
   "execution_count": 78,
   "metadata": {},
   "outputs": [],
   "source": [
    "import pulse3D\n",
    "from pulse3D import excel_writer, plate_recording, peak_detection\n",
    "from pulse3D.constants import *\n",
    "\n",
    "import numpy as np"
   ]
  },
  {
   "cell_type": "code",
   "execution_count": 2,
   "metadata": {},
   "outputs": [
    {
     "name": "stdout",
     "output_type": "stream",
     "text": [
      "Fixed chart width: 256\n",
      "Width addition: 5632\n",
      "Total width: 5888\n",
      "Fixed chart width: 256\n",
      "Width addition: 5632\n",
      "Total width: 5888\n",
      "Fixed chart width: 256\n",
      "Width addition: 5632\n",
      "Total width: 5888\n"
     ]
    }
   ],
   "source": [
    "data_dir='/Users/kristianeschenburg/Documents/Code/CuriBio/sdk_refactor/tests/h5/v0.3.1/MA201110001__2020_09_03_213024/'\n",
    "P = plate_recording.PlateRecording(data_dir)\n",
    "P.wells = P.wells[:1]\n",
    "\n",
    "start_time=10\n",
    "for end_time in [20, 30, 40]:\n",
    "    excel_writer.write_xlsx(P, name=f'./Test.{start_time}.{end_time}.xlsx', start_time=start_time, end_time=end_time)"
   ]
  },
  {
   "cell_type": "code",
   "execution_count": 1,
   "metadata": {},
   "outputs": [],
   "source": [
    "W1 = 200\n",
    "W2 = 100"
   ]
  },
  {
   "cell_type": "code",
   "execution_count": 2,
   "metadata": {},
   "outputs": [],
   "source": [
    "X = 20"
   ]
  },
  {
   "cell_type": "code",
   "execution_count": 6,
   "metadata": {},
   "outputs": [],
   "source": [
    "width = (end_time-start_time)*30\n",
    "a = 50\n",
    "x_pos=(a/width)"
   ]
  },
  {
   "cell_type": "code",
   "execution_count": 7,
   "metadata": {},
   "outputs": [
    {
     "data": {
      "text/plain": [
       "0.05555555555555555"
      ]
     },
     "execution_count": 7,
     "metadata": {},
     "output_type": "execute_result"
    }
   ],
   "source": [
    "x_pos"
   ]
  },
  {
   "cell_type": "code",
   "execution_count": null,
   "metadata": {},
   "outputs": [],
   "source": [
    "def x_pos(x_pixel=100, width=900):\n",
    "    \n",
    "    x_perc = x_pixel/width\n",
    "    x_perc"
   ]
  }
 ],
 "metadata": {
  "kernelspec": {
   "display_name": "Python 3",
   "language": "python",
   "name": "python3"
  },
  "language_info": {
   "codemirror_mode": {
    "name": "ipython",
    "version": 3
   },
   "file_extension": ".py",
   "mimetype": "text/x-python",
   "name": "python",
   "nbconvert_exporter": "python",
   "pygments_lexer": "ipython3",
   "version": "3.7.2"
  }
 },
 "nbformat": 4,
 "nbformat_minor": 4
}
