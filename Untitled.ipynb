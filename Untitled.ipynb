{
 "cells": [
  {
   "cell_type": "code",
   "execution_count": 1,
   "metadata": {},
   "outputs": [],
   "source": [
    "import os\n",
    "\n",
    "import pulse3D\n",
    "from pulse3D import constants\n",
    "from pulse3D import metrics\n",
    "from pulse3D import peak_detection\n",
    "from pulse3D import plate_recording\n",
    "from pulse3D.metrics import *\n",
    "from pulse3D.constants import *\n",
    "\n",
    "from pulse3D.plate_recording import WellFile\n",
    "\n",
    "import pandas as pd\n",
    "from pandas import DataFrame, Series\n",
    "\n",
    "import pyarrow as pa\n",
    "import pyarrow.parquet as pq"
   ]
  },
  {
   "cell_type": "code",
   "execution_count": 2,
   "metadata": {},
   "outputs": [],
   "source": [
    "PATH_OF_CURRENT_FILE='/Users/kristianeschenburg/Documents/Code/CuriBio/sdk_refactor'"
   ]
  },
  {
   "cell_type": "code",
   "execution_count": 3,
   "metadata": {},
   "outputs": [],
   "source": [
    "data_file='./src/tests/h5/v0.3.1/MA201110001__2020_09_03_213024/MA201110001__2020_09_03_213024__A1.h5'\n",
    "w = WellFile(os.path.join(PATH_OF_CURRENT_FILE,\n",
    "                          \"src\",\n",
    "                          \"tests\",\n",
    "                          \"h5\", \n",
    "                          \"v0.3.1\",\n",
    "                          \"MA201110001__2020_09_03_213024\",\n",
    "                          \"MA201110001__2020_09_03_213024__A1.h5\"))"
   ]
  },
  {
   "cell_type": "code",
   "execution_count": 7,
   "metadata": {},
   "outputs": [],
   "source": [
    "twitch_width_percents = np.arange(10, 95, 5)\n",
    "\n",
    "filtered_data = w.noise_filtered_magnetic_data\n",
    "peaks_and_valleys = pulse3D.peak_detection.peak_detector(filtered_data)\n",
    "twitch_indices = pulse3D.peak_detection.find_twitch_indices(peaks_and_valleys)\n",
    "\n",
    "metric_parameters = {\n",
    "                    \"peak_and_valley_indices\": peaks_and_valleys,\n",
    "                    \"filtered_data\": filtered_data,\n",
    "                    \"twitch_indices\": twitch_indices\n",
    "                    }\n",
    "\n",
    "rounded=False\n",
    "\n",
    "metric_mapper = {\n",
    "    AMPLITUDE_UUID: TwitchAmplitude(rounded=rounded),\n",
    "    AUC_UUID: TwitchAUC(rounded=rounded),\n",
    "    BASELINE_TO_PEAK_UUID: TwitchPeakToBaseline(rounded=rounded, is_contraction=True),\n",
    "    CONTRACTION_TIME_UUID: TwitchPeakTime(rounded=rounded, is_contraction=True),\n",
    "    CONTRACTION_VELOCITY_UUID: TwitchVelocity(rounded=rounded, is_contraction=True),\n",
    "    FRACTION_MAX_UUID: TwitchFractionAmplitude(rounded=rounded),\n",
    "    IRREGULARITY_INTERVAL_UUID: TwitchIrregularity(rounded=rounded),\n",
    "    PEAK_TO_BASELINE_UUID: TwitchPeakToBaseline(rounded=rounded, is_contraction=False),\n",
    "    RELAXATION_TIME_UUID: TwitchPeakTime(rounded=rounded, is_contraction=False),\n",
    "    RELAXATION_VELOCITY_UUID: TwitchVelocity(rounded=rounded, is_contraction=False),\n",
    "    TWITCH_FREQUENCY_UUID: TwitchFrequency(rounded=rounded),\n",
    "    TWITCH_PERIOD_UUID: TwitchPeriod(rounded=rounded),\n",
    "    WIDTH_UUID: TwitchWidth(rounded=rounded),\n",
    "}\n",
    "\n",
    "metric_mapper_names = {\n",
    "    AMPLITUDE_UUID: 'amplitude',\n",
    "    AUC_UUID: 'auc',\n",
    "    BASELINE_TO_PEAK_UUID: 'baseline_to_peak',\n",
    "    CONTRACTION_TIME_UUID: 'contraction_time',\n",
    "    CONTRACTION_VELOCITY_UUID: 'contraction_velocity',\n",
    "    FRACTION_MAX_UUID: 'fraction_max',\n",
    "    IRREGULARITY_INTERVAL_UUID: 'irregularity_interval',\n",
    "    PEAK_TO_BASELINE_UUID: 'peak_to_baseline',\n",
    "    RELAXATION_TIME_UUID: 'relaxation_time',\n",
    "    RELAXATION_VELOCITY_UUID: 'relaxation_velocity',\n",
    "    TWITCH_FREQUENCY_UUID: 'twitch_frequency',\n",
    "    TWITCH_PERIOD_UUID: 'twitch_period',\n",
    "    WIDTH_UUID: 'width',\n",
    "}"
   ]
  },
  {
   "cell_type": "code",
   "execution_count": 9,
   "metadata": {},
   "outputs": [
    {
     "name": "stdout",
     "output_type": "stream",
     "text": [
      "##### SCALAR #####\n",
      "Metric 0\n",
      "<class 'pandas.core.series.Series'>\n",
      "\n",
      "Metric 1\n",
      "<class 'pandas.core.series.Series'>\n",
      "\n",
      "Metric 2\n",
      "<class 'pandas.core.series.Series'>\n",
      "\n",
      "Metric 3\n",
      "<class 'pandas.core.series.Series'>\n",
      "\n",
      "Metric 4\n",
      "<class 'pandas.core.series.Series'>\n",
      "\n",
      "Metric 5\n",
      "<class 'pandas.core.series.Series'>\n",
      "\n",
      "Metric 6\n",
      "<class 'pandas.core.series.Series'>\n",
      "\n",
      "Metric 7\n",
      "<class 'pandas.core.series.Series'>\n",
      "\n",
      "Metric 8\n",
      "<class 'pandas.core.series.Series'>\n",
      "\n",
      "Metric 9\n",
      "<class 'pandas.core.series.Series'>\n",
      "\n",
      "##### BY WIDTH #####\n",
      "Metric 0\n",
      "<class 'pandas.core.frame.DataFrame'>\n",
      "\n",
      "Metric 1\n",
      "<class 'pandas.core.frame.DataFrame'>\n",
      "\n",
      "Metric 2\n",
      "<class 'pandas.core.frame.DataFrame'>\n",
      "\n"
     ]
    }
   ],
   "source": [
    "# per scalar dataframes\n",
    "metric_list=[AMPLITUDE_UUID, \n",
    "             AUC_UUID, \n",
    "             BASELINE_TO_PEAK_UUID, \n",
    "             CONTRACTION_VELOCITY_UUID, \n",
    "             FRACTION_MAX_UUID, \n",
    "             IRREGULARITY_INTERVAL_UUID, \n",
    "             PEAK_TO_BASELINE_UUID, \n",
    "             RELAXATION_VELOCITY_UUID, \n",
    "             TWITCH_FREQUENCY_UUID,\n",
    "             TWITCH_PERIOD_UUID]\n",
    "\n",
    "print('##### SCALAR #####')\n",
    "per_twitch_scalar = pd.DataFrame(index=list(twitch_indices.keys()), \n",
    "                                 columns=metric_list)\n",
    "columns = pd.MultiIndex.from_product([metric_list,['n','mean','std','min','max','cov','sem']], \n",
    "                                     names=['metric', 'statistic'])\n",
    "aggregate_scalar = pd.DataFrame(index=[0], \n",
    "                                columns=columns)\n",
    "\n",
    "for i, metric_id in enumerate(metric_list):\n",
    "    print(f'Metric {i}')\n",
    "    metric = metric_mapper[metric_id]\n",
    "    estimate = metric.fit(**metric_parameters)\n",
    "    estimate_df = pd.DataFrame(estimate)\n",
    "    table = pa.Table.from_pandas(estimate_df, preserve_index=True)\n",
    "    \n",
    "    metric_name=metric_mapper_names[metric_id]\n",
    "    file_path = os.path.join(PATH_OF_CURRENT_FILE, \n",
    "                             \"src\",\n",
    "                             \"tests\",\n",
    "                             \"data_metrics\", \n",
    "                             \"v0.3.1\", \n",
    "                             f'{metric_name}_MA201110001__2020_09_03_213024__A1.parquet'\n",
    "                            )\n",
    "\n",
    "    pq.write_table(table=table, where=file_path)\n",
    "    \n",
    "    print(type(estimate))\n",
    "    metric.add_per_twitch_metrics(per_twitch_scalar, metric_id, estimate)\n",
    "    metric.add_aggregate_metrics(aggregate_scalar, metric_id, estimate)\n",
    "    print()\n",
    "    \n",
    "print('##### BY WIDTH #####')\n",
    "metric_list=[CONTRACTION_TIME_UUID, RELAXATION_TIME_UUID, WIDTH_UUID]\n",
    "columns = pd.MultiIndex.from_product([metric_list, list(np.arange(10,95,5))], names=['metric', 'width'])\n",
    "per_twitch_by_width = pd.DataFrame(index=list(twitch_indices.keys()), columns=columns)\n",
    "\n",
    "columns = pd.MultiIndex.from_product([metric_list, np.arange(10,95,5), \n",
    "                                      ['n','mean','std','min','max','cov','sem']], \n",
    "                                     names=['metric', 'width', 'statistic'])\n",
    "aggregate_by_width = pd.DataFrame(index=[0], columns=columns)\n",
    "\n",
    "for i, metric_id in enumerate(metric_list):\n",
    "    print(f'Metric {i}')\n",
    "    metric = metric_mapper[metric_id]\n",
    "    estimate = metric.fit(**metric_parameters)\n",
    "    metric_name=metric_mapper_names[metric_id]\n",
    "    file_path = os.path.join(PATH_OF_CURRENT_FILE, \n",
    "                             \"src\",\n",
    "                             \"tests\",\n",
    "                             \"data_metrics\", \n",
    "                             \"v0.3.1\", \n",
    "                             f'{metric_name}_MA201110001__2020_09_03_213024__A1.parquet'\n",
    "                            )\n",
    "\n",
    "    table = pa.Table.from_pandas(estimate, preserve_index=True)\n",
    "    pq.write_table(table=table, where=file_path)\n",
    "    print(type(estimate))\n",
    "    metric.add_per_twitch_metrics(per_twitch_by_width, metric_id, estimate)\n",
    "    metric.add_aggregate_metrics(aggregate_by_width, metric_id, estimate)\n",
    "    print()"
   ]
  },
  {
   "cell_type": "code",
   "execution_count": 14,
   "metadata": {},
   "outputs": [],
   "source": [
    "metric_id = AUC_UUID\n",
    "metric = metric_mapper[metric_id]\n",
    "estimate = metric.fit(**metric_parameters)"
   ]
  },
  {
   "cell_type": "code",
   "execution_count": 15,
   "metadata": {},
   "outputs": [],
   "source": [
    "parquet_file='/Users/kristianeschenburg/Documents/Code/CuriBio/sdk_refactor/src/tests/data_metrics/v0.3.1/auc_MA201110001__2020_09_03_213024__A1.parquet'\n",
    "parquet = pq.read_table(parquet_file).to_pandas().squeeze()"
   ]
  },
  {
   "cell_type": "code",
   "execution_count": 16,
   "metadata": {},
   "outputs": [
    {
     "data": {
      "text/plain": [
       "134      6.171740e+10\n",
       "237      5.448984e+10\n",
       "338      5.174481e+10\n",
       "442      5.571002e+10\n",
       "544      5.365478e+10\n",
       "             ...     \n",
       "22541    2.802726e+10\n",
       "22633    2.792326e+10\n",
       "22721    2.742706e+10\n",
       "22805    2.724373e+10\n",
       "22894    2.803332e+10\n",
       "Name: 0, Length: 242, dtype: float64"
      ]
     },
     "execution_count": 16,
     "metadata": {},
     "output_type": "execute_result"
    }
   ],
   "source": [
    "parquet"
   ]
  },
  {
   "cell_type": "code",
   "execution_count": 17,
   "metadata": {},
   "outputs": [
    {
     "data": {
      "text/plain": [
       "134      6.171740e+10\n",
       "237      5.448984e+10\n",
       "338      5.174481e+10\n",
       "442      5.571002e+10\n",
       "544      5.365478e+10\n",
       "             ...     \n",
       "22541    2.802726e+10\n",
       "22633    2.792326e+10\n",
       "22721    2.742706e+10\n",
       "22805    2.724373e+10\n",
       "22894    2.803332e+10\n",
       "Length: 242, dtype: float64"
      ]
     },
     "execution_count": 17,
     "metadata": {},
     "output_type": "execute_result"
    }
   ],
   "source": [
    "estimate"
   ]
  },
  {
   "cell_type": "code",
   "execution_count": 144,
   "metadata": {},
   "outputs": [],
   "source": [
    "w = WellFile(os.path.join(PATH_OF_CURRENT_FILE,\n",
    "                          \"src\",\n",
    "                          \"tests\",\n",
    "                          \"h5\", \n",
    "                          \"v0.3.1\",\n",
    "                          \"MA201110001__2020_09_03_213024\",\n",
    "                          \"MA201110001__2020_09_03_213024__A1.h5\"))\n",
    "pv = peak_detection.peak_detector(w.noise_filtered_magnetic_data)\n",
    "twitch_indices = peak_detection.find_twitch_indices(pv)\n",
    "\n",
    "metric = metrics.TwitchFractionAmplitude()\n",
    "estimate_2 = metric.fit(pv, w.force, twitch_indices)"
   ]
  },
  {
   "cell_type": "code",
   "execution_count": 152,
   "metadata": {},
   "outputs": [
    {
     "data": {
      "text/plain": [
       "0.9929389890022211"
      ]
     },
     "execution_count": 152,
     "metadata": {},
     "output_type": "execute_result"
    }
   ],
   "source": [
    "estimate_2[237]"
   ]
  },
  {
   "cell_type": "code",
   "execution_count": 153,
   "metadata": {},
   "outputs": [
    {
     "data": {
      "text/plain": [
       "0.9929388451895301"
      ]
     },
     "execution_count": 153,
     "metadata": {},
     "output_type": "execute_result"
    }
   ],
   "source": [
    "estimate[237]"
   ]
  },
  {
   "cell_type": "code",
   "execution_count": 145,
   "metadata": {},
   "outputs": [
    {
     "data": {
      "text/plain": [
       "134      0.954977\n",
       "237      0.992939\n",
       "338      0.961568\n",
       "442      0.961285\n",
       "544      0.968974\n",
       "           ...   \n",
       "22541    0.901879\n",
       "22633    0.928281\n",
       "22721    0.915745\n",
       "22805    0.903670\n",
       "22894    0.925244\n",
       "Length: 242, dtype: float64"
      ]
     },
     "execution_count": 145,
     "metadata": {},
     "output_type": "execute_result"
    }
   ],
   "source": [
    "estimate"
   ]
  },
  {
   "cell_type": "code",
   "execution_count": 132,
   "metadata": {},
   "outputs": [],
   "source": [
    "try:\n",
    "    table = pq.read_table(file_path)\n",
    "except:\n",
    "    raise FileNotFoundError('Parquet file for width not found.')\n",
    "else:\n",
    "    expected = table.to_pandas()"
   ]
  },
  {
   "cell_type": "code",
   "execution_count": 133,
   "metadata": {},
   "outputs": [
    {
     "data": {
      "text/plain": [
       "'/Users/kristianeschenburg/Documents/Code/CuriBio/sdk_refactor/src/tests/data_metrics/v0.3.1/width_MA201110001__2020_09_03_213024__A1.parquet'"
      ]
     },
     "execution_count": 133,
     "metadata": {},
     "output_type": "execute_result"
    }
   ],
   "source": [
    "file_path"
   ]
  },
  {
   "cell_type": "code",
   "execution_count": 70,
   "metadata": {},
   "outputs": [
    {
     "data": {
      "text/plain": [
       "''"
      ]
     },
     "execution_count": 70,
     "metadata": {},
     "output_type": "execute_result"
    }
   ],
   "source": [
    "from stdlib_utils import get_current_file_abs_directory\n",
    "\n",
    "get_current_file_abs_directory()"
   ]
  },
  {
   "cell_type": "code",
   "execution_count": 90,
   "metadata": {},
   "outputs": [],
   "source": [
    "def concat(dfs, axis=0, *args, **kwargs):   \n",
    "    \"\"\"\n",
    "    Wrapper for `pandas.concat'; concatenate pandas objects even if they have \n",
    "    unequal number of levels on concatenation axis.\n",
    "    \n",
    "    Levels containing empty strings are added from below (when concatenating along\n",
    "    columns) or right (when concateniting along rows) to match the maximum number \n",
    "    found in the dataframes.\n",
    "    \n",
    "    Parameters\n",
    "    ----------\n",
    "    dfs : Iterable\n",
    "        Dataframes that must be concatenated.\n",
    "    axis : int, optional\n",
    "        Axis along which concatenation must take place. The default is 0.\n",
    "\n",
    "    Returns\n",
    "    -------\n",
    "    pd.DataFrame\n",
    "        Concatenated Dataframe.\n",
    "    \n",
    "    Notes\n",
    "    -----\n",
    "    Any arguments and kwarguments are passed onto the `pandas.concat` function.\n",
    "    \n",
    "    See also\n",
    "    --------\n",
    "    pandas.concat\n",
    "    \"\"\"\n",
    "    def index(df):\n",
    "        return df.columns if axis==1 else df.index\n",
    "    \n",
    "    def add_levels(df):\n",
    "        need = want - index(df).nlevels\n",
    "        if need > 0:\n",
    "            df = pd.concat([df], keys=[('',)*need], axis=axis) # prepend empty levels\n",
    "            for i in range(want-need): # move empty levels to bottom\n",
    "                df = df.swaplevel(i, i+need, axis=axis) \n",
    "        return df\n",
    "    \n",
    "    want = np.max([index(df).nlevels for df in dfs])    \n",
    "    dfs = [add_levels(df) for df in dfs]\n",
    "    return pd.concat(dfs, axis=axis, *args, **kwargs)"
   ]
  },
  {
   "cell_type": "code",
   "execution_count": 91,
   "metadata": {},
   "outputs": [],
   "source": [
    "per_twitch = concat([per_twitch_scalar, per_twitch_by_width], axis=1)\n",
    "aggregate = concat([aggregate_scalar, aggregate_by_width], axis=1)"
   ]
  },
  {
   "cell_type": "code",
   "execution_count": 82,
   "metadata": {},
   "outputs": [],
   "source": [
    "import pyarrow as pa"
   ]
  },
  {
   "cell_type": "code",
   "execution_count": 158,
   "metadata": {},
   "outputs": [
    {
     "name": "stderr",
     "output_type": "stream",
     "text": [
      "/Users/kristianeschenburg/anaconda3/lib/python3.7/site-packages/ipykernel_launcher.py:2: UserWarning: The DataFrame has column names of mixed type. They will be converted to strings and not roundtrip correctly.\n",
      "  \n"
     ]
    },
    {
     "ename": "ValueError",
     "evalue": "invalid literal for int() with base 10: 'cov'",
     "output_type": "error",
     "traceback": [
      "\u001b[0;31m---------------------------------------------------------------------------\u001b[0m",
      "\u001b[0;31mValueError\u001b[0m                                Traceback (most recent call last)",
      "\u001b[0;32m<ipython-input-158-bddaf16e9c1b>\u001b[0m in \u001b[0;36m<module>\u001b[0;34m\u001b[0m\n\u001b[1;32m      5\u001b[0m \u001b[0;31m# convert str uuids to UUID\u001b[0m\u001b[0;34m\u001b[0m\u001b[0;34m\u001b[0m\u001b[0;34m\u001b[0m\u001b[0m\n\u001b[1;32m      6\u001b[0m \u001b[0mdf_new\u001b[0m\u001b[0;34m.\u001b[0m\u001b[0mcolumns\u001b[0m\u001b[0;34m.\u001b[0m\u001b[0mset_levels\u001b[0m\u001b[0;34m(\u001b[0m\u001b[0mlist\u001b[0m\u001b[0;34m(\u001b[0m\u001b[0mmap\u001b[0m\u001b[0;34m(\u001b[0m\u001b[0muuid\u001b[0m\u001b[0;34m.\u001b[0m\u001b[0mUUID\u001b[0m\u001b[0;34m,\u001b[0m \u001b[0mdf_new\u001b[0m\u001b[0;34m.\u001b[0m\u001b[0mcolumns\u001b[0m\u001b[0;34m.\u001b[0m\u001b[0mlevels\u001b[0m\u001b[0;34m[\u001b[0m\u001b[0;36m0\u001b[0m\u001b[0;34m]\u001b[0m\u001b[0;34m)\u001b[0m\u001b[0;34m)\u001b[0m\u001b[0;34m,\u001b[0m \u001b[0mlevel\u001b[0m\u001b[0;34m=\u001b[0m\u001b[0;36m0\u001b[0m\u001b[0;34m,\u001b[0m \u001b[0minplace\u001b[0m\u001b[0;34m=\u001b[0m\u001b[0;32mTrue\u001b[0m\u001b[0;34m)\u001b[0m\u001b[0;34m\u001b[0m\u001b[0;34m\u001b[0m\u001b[0m\n\u001b[0;32m----> 7\u001b[0;31m \u001b[0mdf_new\u001b[0m\u001b[0;34m.\u001b[0m\u001b[0mcolumns\u001b[0m\u001b[0;34m.\u001b[0m\u001b[0mset_levels\u001b[0m\u001b[0;34m(\u001b[0m\u001b[0;34m[\u001b[0m\u001b[0mstr2int\u001b[0m\u001b[0;34m(\u001b[0m\u001b[0mk\u001b[0m\u001b[0;34m)\u001b[0m \u001b[0;32mfor\u001b[0m \u001b[0mk\u001b[0m \u001b[0;32min\u001b[0m \u001b[0mdf_new\u001b[0m\u001b[0;34m.\u001b[0m\u001b[0mcolumns\u001b[0m\u001b[0;34m.\u001b[0m\u001b[0mlevels\u001b[0m\u001b[0;34m[\u001b[0m\u001b[0;36m1\u001b[0m\u001b[0;34m]\u001b[0m\u001b[0;34m]\u001b[0m\u001b[0;34m,\u001b[0m \u001b[0mlevel\u001b[0m\u001b[0;34m=\u001b[0m\u001b[0;36m1\u001b[0m\u001b[0;34m,\u001b[0m \u001b[0minplace\u001b[0m\u001b[0;34m=\u001b[0m\u001b[0;32mTrue\u001b[0m\u001b[0;34m)\u001b[0m\u001b[0;34m\u001b[0m\u001b[0;34m\u001b[0m\u001b[0m\n\u001b[0m",
      "\u001b[0;32m<ipython-input-158-bddaf16e9c1b>\u001b[0m in \u001b[0;36m<listcomp>\u001b[0;34m(.0)\u001b[0m\n\u001b[1;32m      5\u001b[0m \u001b[0;31m# convert str uuids to UUID\u001b[0m\u001b[0;34m\u001b[0m\u001b[0;34m\u001b[0m\u001b[0;34m\u001b[0m\u001b[0m\n\u001b[1;32m      6\u001b[0m \u001b[0mdf_new\u001b[0m\u001b[0;34m.\u001b[0m\u001b[0mcolumns\u001b[0m\u001b[0;34m.\u001b[0m\u001b[0mset_levels\u001b[0m\u001b[0;34m(\u001b[0m\u001b[0mlist\u001b[0m\u001b[0;34m(\u001b[0m\u001b[0mmap\u001b[0m\u001b[0;34m(\u001b[0m\u001b[0muuid\u001b[0m\u001b[0;34m.\u001b[0m\u001b[0mUUID\u001b[0m\u001b[0;34m,\u001b[0m \u001b[0mdf_new\u001b[0m\u001b[0;34m.\u001b[0m\u001b[0mcolumns\u001b[0m\u001b[0;34m.\u001b[0m\u001b[0mlevels\u001b[0m\u001b[0;34m[\u001b[0m\u001b[0;36m0\u001b[0m\u001b[0;34m]\u001b[0m\u001b[0;34m)\u001b[0m\u001b[0;34m)\u001b[0m\u001b[0;34m,\u001b[0m \u001b[0mlevel\u001b[0m\u001b[0;34m=\u001b[0m\u001b[0;36m0\u001b[0m\u001b[0;34m,\u001b[0m \u001b[0minplace\u001b[0m\u001b[0;34m=\u001b[0m\u001b[0;32mTrue\u001b[0m\u001b[0;34m)\u001b[0m\u001b[0;34m\u001b[0m\u001b[0;34m\u001b[0m\u001b[0m\n\u001b[0;32m----> 7\u001b[0;31m \u001b[0mdf_new\u001b[0m\u001b[0;34m.\u001b[0m\u001b[0mcolumns\u001b[0m\u001b[0;34m.\u001b[0m\u001b[0mset_levels\u001b[0m\u001b[0;34m(\u001b[0m\u001b[0;34m[\u001b[0m\u001b[0mstr2int\u001b[0m\u001b[0;34m(\u001b[0m\u001b[0mk\u001b[0m\u001b[0;34m)\u001b[0m \u001b[0;32mfor\u001b[0m \u001b[0mk\u001b[0m \u001b[0;32min\u001b[0m \u001b[0mdf_new\u001b[0m\u001b[0;34m.\u001b[0m\u001b[0mcolumns\u001b[0m\u001b[0;34m.\u001b[0m\u001b[0mlevels\u001b[0m\u001b[0;34m[\u001b[0m\u001b[0;36m1\u001b[0m\u001b[0;34m]\u001b[0m\u001b[0;34m]\u001b[0m\u001b[0;34m,\u001b[0m \u001b[0mlevel\u001b[0m\u001b[0;34m=\u001b[0m\u001b[0;36m1\u001b[0m\u001b[0;34m,\u001b[0m \u001b[0minplace\u001b[0m\u001b[0;34m=\u001b[0m\u001b[0;32mTrue\u001b[0m\u001b[0;34m)\u001b[0m\u001b[0;34m\u001b[0m\u001b[0;34m\u001b[0m\u001b[0m\n\u001b[0m",
      "\u001b[0;32m<ipython-input-140-21e26cc04cfe>\u001b[0m in \u001b[0;36mstr2int\u001b[0;34m(k)\u001b[0m\n\u001b[1;32m      2\u001b[0m \u001b[0;34m\u001b[0m\u001b[0m\n\u001b[1;32m      3\u001b[0m     \u001b[0;32mif\u001b[0m \u001b[0mk\u001b[0m \u001b[0;34m!=\u001b[0m \u001b[0;34m''\u001b[0m\u001b[0;34m:\u001b[0m\u001b[0;34m\u001b[0m\u001b[0;34m\u001b[0m\u001b[0m\n\u001b[0;32m----> 4\u001b[0;31m         \u001b[0;32mreturn\u001b[0m \u001b[0mint\u001b[0m\u001b[0;34m(\u001b[0m\u001b[0mk\u001b[0m\u001b[0;34m)\u001b[0m\u001b[0;34m\u001b[0m\u001b[0;34m\u001b[0m\u001b[0m\n\u001b[0m\u001b[1;32m      5\u001b[0m     \u001b[0;32melse\u001b[0m\u001b[0;34m:\u001b[0m\u001b[0;34m\u001b[0m\u001b[0;34m\u001b[0m\u001b[0m\n\u001b[1;32m      6\u001b[0m         \u001b[0;32mreturn\u001b[0m \u001b[0mk\u001b[0m\u001b[0;34m\u001b[0m\u001b[0;34m\u001b[0m\u001b[0m\n",
      "\u001b[0;31mValueError\u001b[0m: invalid literal for int() with base 10: 'cov'"
     ]
    }
   ],
   "source": [
    "# Pandas.DataFrame to Arrow.Table\n",
    "table = pa.Table.from_pandas(aggregate)\n",
    "# Arrow.Table to Pandas.DataFrame\n",
    "df_new = table.to_pandas()\n",
    "# convert str uuids to UUID\n",
    "df_new.columns.set_levels(list(map(uuid.UUID, df_new.columns.levels[0])), level=0, inplace=True)\n",
    "df_new.columns.set_levels([str2int(k) for k in df_new.columns.levels[1]], level=1, inplace=True)"
   ]
  },
  {
   "cell_type": "code",
   "execution_count": 140,
   "metadata": {},
   "outputs": [],
   "source": [
    "def str2int(k):\n",
    "    \n",
    "    if k != '':\n",
    "        return int(k)\n",
    "    else:\n",
    "        return k"
   ]
  },
  {
   "cell_type": "code",
   "execution_count": 102,
   "metadata": {},
   "outputs": [],
   "source": [
    "import uuid\n",
    "from uuid import UUID"
   ]
  },
  {
   "cell_type": "code",
   "execution_count": 196,
   "metadata": {},
   "outputs": [],
   "source": [
    "per_twitch_metrics = concat([per_twitch_scalar, per_twitch_metrics.T.loc[pd.IndexSlice[:, [50, 90]], :].T], axis=1).T\n",
    "aggregate_metrics = concat([aggregate_scalar, aggregate_by_width.T.loc[pd.IndexSlice[:, [50, 90]], :].T], axis=1).T"
   ]
  }
 ],
 "metadata": {
  "kernelspec": {
   "display_name": "Python 3",
   "language": "python",
   "name": "python3"
  },
  "language_info": {
   "codemirror_mode": {
    "name": "ipython",
    "version": 3
   },
   "file_extension": ".py",
   "mimetype": "text/x-python",
   "name": "python",
   "nbconvert_exporter": "python",
   "pygments_lexer": "ipython3",
   "version": "3.7.2"
  }
 },
 "nbformat": 4,
 "nbformat_minor": 4
}
